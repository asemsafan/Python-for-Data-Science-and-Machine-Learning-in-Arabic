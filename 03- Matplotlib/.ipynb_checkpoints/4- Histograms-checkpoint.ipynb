{
 "cells": [
  {
   "cell_type": "markdown",
   "id": "848c52a3",
   "metadata": {},
   "source": [
    "# Histograms"
   ]
  },
  {
   "cell_type": "markdown",
   "id": "74ba91b9",
   "metadata": {},
   "source": [
    "https://matplotlib.org/3.5.0/api/_as_gen/matplotlib.pyplot.hist.html"
   ]
  },
  {
   "cell_type": "code",
   "execution_count": 1,
   "id": "a4efd889",
   "metadata": {},
   "outputs": [],
   "source": [
    "# importing libraries\n",
    "import pandas as pd\n",
    "from matplotlib import pyplot as plt"
   ]
  },
  {
   "cell_type": "code",
   "execution_count": 2,
   "id": "ab7b6382",
   "metadata": {},
   "outputs": [],
   "source": [
    "# Data\n",
    "ages = [18, 19, 21, 25, 26, 26, 30, 32,32, 38, 45,35,42,50, 55, 38,21, 25, 26, 26, 30, 32, 38, 45, 55]"
   ]
  },
  {
   "cell_type": "code",
   "execution_count": 3,
   "id": "a9b5ee0a",
   "metadata": {},
   "outputs": [
    {
     "data": {
      "image/png": "[encoded data removed]",
      "text/plain": [
       "<Figure size 432x288 with 1 Axes>"
      ]
     },
     "metadata": {
      "needs_background": "light"
     },
     "output_type": "display_data"
    }
   ],
   "source": [
    "# plotting your first histogram\n",
    "plt.hist (ages,edgecolor='black',bins=12)\n",
    "\n",
    "plt.title('Ages of Users')\n",
    "plt.xlabel('Ages')\n",
    "plt.ylabel('Total Users')\n",
    "plt.show()"
   ]
  },
  {
   "cell_type": "code",
   "execution_count": 4,
   "id": "fab21d42",
   "metadata": {},
   "outputs": [
    {
     "data": {
      "image/png": "[encoded data removed]",
      "text/plain": [
       "<Figure size 432x288 with 1 Axes>"
      ]
     },
     "metadata": {
      "needs_background": "light"
     },
     "output_type": "display_data"
    }
   ],
   "source": [
    "# adding bins as a list \n",
    "hist_bins= [10,20,30,40,50,60]\n",
    "\n",
    "plt.hist (ages,edgecolor='black',bins=hist_bins)\n",
    "\n",
    "plt.title('Ages of Users')\n",
    "plt.xlabel('Ages')\n",
    "plt.ylabel('Total Users')\n",
    "plt.show()"
   ]
  },
  {
   "cell_type": "code",
   "execution_count": 5,
   "id": "d6b4c275",
   "metadata": {},
   "outputs": [],
   "source": [
    "# importing data from a file\n",
    "df = pd.read_csv ('hist_data.csv')"
   ]
  },
  {
   "cell_type": "code",
   "execution_count": 6,
   "id": "b28c9891",
   "metadata": {},
   "outputs": [
    {
     "data": {
      "text/html": [
       "<div>\n",
       "<style scoped>\n",
       "    .dataframe tbody tr th:only-of-type {\n",
       "        vertical-align: middle;\n",
       "    }\n",
       "\n",
       "    .dataframe tbody tr th {\n",
       "        vertical-align: top;\n",
       "    }\n",
       "\n",
       "    .dataframe thead th {\n",
       "        text-align: right;\n",
       "    }\n",
       "</style>\n",
       "<table border=\"1\" class=\"dataframe\">\n",
       "  <thead>\n",
       "    <tr style=\"text-align: right;\">\n",
       "      <th></th>\n",
       "      <th>Responder_id</th>\n",
       "      <th>Age</th>\n",
       "    </tr>\n",
       "  </thead>\n",
       "  <tbody>\n",
       "    <tr>\n",
       "      <th>0</th>\n",
       "      <td>1</td>\n",
       "      <td>14</td>\n",
       "    </tr>\n",
       "    <tr>\n",
       "      <th>1</th>\n",
       "      <td>2</td>\n",
       "      <td>19</td>\n",
       "    </tr>\n",
       "    <tr>\n",
       "      <th>2</th>\n",
       "      <td>3</td>\n",
       "      <td>28</td>\n",
       "    </tr>\n",
       "    <tr>\n",
       "      <th>3</th>\n",
       "      <td>4</td>\n",
       "      <td>22</td>\n",
       "    </tr>\n",
       "    <tr>\n",
       "      <th>4</th>\n",
       "      <td>5</td>\n",
       "      <td>30</td>\n",
       "    </tr>\n",
       "  </tbody>\n",
       "</table>\n",
       "</div>"
      ],
      "text/plain": [
       "   Responder_id  Age\n",
       "0             1   14\n",
       "1             2   19\n",
       "2             3   28\n",
       "3             4   22\n",
       "4             5   30"
      ]
     },
     "execution_count": 6,
     "metadata": {},
     "output_type": "execute_result"
    }
   ],
   "source": [
    "# inspecting the data imported\n",
    "df.head()"
   ]
  },
  {
   "cell_type": "code",
   "execution_count": 7,
   "id": "5044766f",
   "metadata": {},
   "outputs": [
    {
     "data": {
      "text/plain": [
       "(79210, 2)"
      ]
     },
     "execution_count": 7,
     "metadata": {},
     "output_type": "execute_result"
    }
   ],
   "source": [
    "# shape of the data frame > (number of rows , number of columns)\n",
    "df.shape"
   ]
  },
  {
   "cell_type": "code",
   "execution_count": 8,
   "id": "990ad1e2",
   "metadata": {},
   "outputs": [],
   "source": [
    "# getting ages column alone as a Series to work on\n",
    "ages_column = df['Age']"
   ]
  },
  {
   "cell_type": "code",
   "execution_count": 9,
   "id": "1b806f2b",
   "metadata": {},
   "outputs": [
    {
     "data": {
      "text/plain": [
       "dtype('int64')"
      ]
     },
     "execution_count": 9,
     "metadata": {},
     "output_type": "execute_result"
    }
   ],
   "source": [
    "# checking the column *content* datatype\n",
    "ages_column.dtype"
   ]
  },
  {
   "cell_type": "code",
   "execution_count": 10,
   "id": "3cac9de2",
   "metadata": {},
   "outputs": [
    {
     "data": {
      "text/plain": [
       "pandas.core.series.Series"
      ]
     },
     "execution_count": 10,
     "metadata": {},
     "output_type": "execute_result"
    }
   ],
   "source": [
    "# checking the type of ages_column itself\n",
    "type(ages_column)"
   ]
  },
  {
   "cell_type": "code",
   "execution_count": 11,
   "id": "ceb3ecb4",
   "metadata": {},
   "outputs": [
    {
     "data": {
      "image/png": "[encoded data removed]",
      "text/plain": [
       "<Figure size 432x288 with 1 Axes>"
      ]
     },
     "metadata": {
      "needs_background": "light"
     },
     "output_type": "display_data"
    }
   ],
   "source": [
    "# using imported data to plot a histogram\n",
    "plt.hist (ages_column,edgecolor='black')\n",
    "\n",
    "plt.title('Ages of Users')\n",
    "plt.xlabel('Ages')\n",
    "plt.ylabel('Total Users')\n",
    "plt.show()"
   ]
  },
  {
   "cell_type": "code",
   "execution_count": 12,
   "id": "d0051914",
   "metadata": {},
   "outputs": [
    {
     "data": {
      "image/png": "[encoded data removed]",
      "text/plain": [
       "<Figure size 432x288 with 1 Axes>"
      ]
     },
     "metadata": {
      "needs_background": "light"
     },
     "output_type": "display_data"
    }
   ],
   "source": [
    "# using the log argument\n",
    "plt.hist (ages_column,edgecolor='black',log=True)\n",
    "\n",
    "plt.title('Ages of Users')\n",
    "plt.xlabel('Ages')\n",
    "plt.ylabel('Total Users')\n",
    "plt.show()"
   ]
  },
  {
   "cell_type": "code",
   "execution_count": 13,
   "id": "64441309",
   "metadata": {},
   "outputs": [
    {
     "data": {
      "text/plain": [
       "30.336674662290115"
      ]
     },
     "execution_count": 13,
     "metadata": {},
     "output_type": "execute_result"
    }
   ],
   "source": [
    "# mean of a columns\n",
    "ages_column.mean()"
   ]
  },
  {
   "cell_type": "code",
   "execution_count": 14,
   "id": "85d88f43",
   "metadata": {},
   "outputs": [
    {
     "data": {
      "text/plain": [
       "29.0"
      ]
     },
     "execution_count": 14,
     "metadata": {},
     "output_type": "execute_result"
    }
   ],
   "source": [
    "# median of the column\n",
    "median = ages_column.median()\n",
    "median"
   ]
  },
  {
   "cell_type": "code",
   "execution_count": 15,
   "id": "f23a1a58",
   "metadata": {},
   "outputs": [
    {
     "data": {
      "image/png": "[encoded data removed]",
      "text/plain": [
       "<Figure size 432x288 with 1 Axes>"
      ]
     },
     "metadata": {
      "needs_background": "light"
     },
     "output_type": "display_data"
    }
   ],
   "source": [
    "# plotting a vertical line representing the median line \n",
    "plt.hist (ages_column,edgecolor='black',log=True)\n",
    "\n",
    "# if you add legnend to forget to add `plt.legend()`\n",
    "plt.axvline(median, color='red',label='Ages Median')\n",
    "\n",
    "plt.title('Ages of Users')\n",
    "plt.xlabel('Ages')\n",
    "plt.ylabel('Total Users')\n",
    "plt.legend()\n",
    "plt.show()"
   ]
  },
  {
   "cell_type": "code",
   "execution_count": 16,
   "id": "bc002b07",
   "metadata": {},
   "outputs": [
    {
     "data": {
      "image/png": "[encoded data removed]",
      "text/plain": [
       "<Figure size 432x288 with 1 Axes>"
      ]
     },
     "metadata": {
      "needs_background": "light"
     },
     "output_type": "display_data"
    }
   ],
   "source": [
    "# the same plot but without the log = True\n",
    "plt.hist (ages_column,edgecolor='black')\n",
    "\n",
    "plt.axvline(median, color='red',label='Ages Median')\n",
    "\n",
    "plt.title('Ages of Users')\n",
    "plt.xlabel('Ages')\n",
    "plt.ylabel('Total Users')\n",
    "plt.legend()\n",
    "plt.show()"
   ]
  }
 ],
 "metadata": {
  "kernelspec": {
   "display_name": "Python 3 (ipykernel)",
   "language": "python",
   "name": "python3"
  },
  "language_info": {
   "codemirror_mode": {
    "name": "ipython",
    "version": 3
   },
   "file_extension": ".py",
   "mimetype": "text/x-python",
   "name": "python",
   "nbconvert_exporter": "python",
   "pygments_lexer": "ipython3",
   "version": "3.9.7"
  }
 },
 "nbformat": 4,
 "nbformat_minor": 5
}
