{
 "cells": [
  {
   "cell_type": "markdown",
   "id": "65f375b1",
   "metadata": {},
   "source": [
    "# 01- NumPy Arrays"
   ]
  },
  {
   "cell_type": "code",
   "execution_count": 1,
   "id": "dd7181f4",
   "metadata": {},
   "outputs": [],
   "source": [
    "# pip install numpy\n",
    "import numpy as np"
   ]
  },
  {
   "cell_type": "code",
   "execution_count": 2,
   "id": "9886b68b",
   "metadata": {},
   "outputs": [],
   "source": [
    "list1 = [1,2,3,4,5,6]"
   ]
  },
  {
   "cell_type": "code",
   "execution_count": 3,
   "id": "cf161915",
   "metadata": {},
   "outputs": [],
   "source": [
    "arr1 = np.array(list1)"
   ]
  },
  {
   "cell_type": "code",
   "execution_count": 4,
   "id": "7f777659",
   "metadata": {},
   "outputs": [
    {
     "data": {
      "text/plain": [
       "[1, 2, 3, 4, 5, 6]"
      ]
     },
     "execution_count": 4,
     "metadata": {},
     "output_type": "execute_result"
    }
   ],
   "source": [
    "list1"
   ]
  },
  {
   "cell_type": "code",
   "execution_count": 5,
   "id": "34d0ecef",
   "metadata": {},
   "outputs": [
    {
     "data": {
      "text/plain": [
       "array([1, 2, 3, 4, 5, 6])"
      ]
     },
     "execution_count": 5,
     "metadata": {},
     "output_type": "execute_result"
    }
   ],
   "source": [
    "arr1"
   ]
  },
  {
   "cell_type": "code",
   "execution_count": 6,
   "id": "ca72040a",
   "metadata": {},
   "outputs": [
    {
     "data": {
      "text/plain": [
       "numpy.ndarray"
      ]
     },
     "execution_count": 6,
     "metadata": {},
     "output_type": "execute_result"
    }
   ],
   "source": [
    "type (arr1)"
   ]
  },
  {
   "cell_type": "code",
   "execution_count": 7,
   "id": "67307900",
   "metadata": {},
   "outputs": [],
   "source": [
    "matrix1 = [[1,2,3],[4,5,6],[7,8,9]]"
   ]
  },
  {
   "cell_type": "code",
   "execution_count": 8,
   "id": "8b1b30ac",
   "metadata": {},
   "outputs": [],
   "source": [
    "arr2 = np.array(matrix1)"
   ]
  },
  {
   "cell_type": "code",
   "execution_count": 9,
   "id": "8644c94d",
   "metadata": {},
   "outputs": [
    {
     "data": {
      "text/plain": [
       "array([[1, 2, 3],\n",
       "       [4, 5, 6],\n",
       "       [7, 8, 9]])"
      ]
     },
     "execution_count": 9,
     "metadata": {},
     "output_type": "execute_result"
    }
   ],
   "source": [
    "arr2"
   ]
  },
  {
   "cell_type": "markdown",
   "id": "6d8ce55e",
   "metadata": {},
   "source": [
    "### Built in methods"
   ]
  },
  {
   "cell_type": "code",
   "execution_count": 10,
   "id": "707b8d02",
   "metadata": {},
   "outputs": [
    {
     "data": {
      "text/plain": [
       "range(2, 15)"
      ]
     },
     "execution_count": 10,
     "metadata": {},
     "output_type": "execute_result"
    }
   ],
   "source": [
    "range (2,15)"
   ]
  },
  {
   "cell_type": "code",
   "execution_count": 11,
   "id": "91f33060",
   "metadata": {},
   "outputs": [
    {
     "data": {
      "text/plain": [
       "[2, 3, 4, 5, 6, 7, 8, 9, 10, 11, 12, 13, 14]"
      ]
     },
     "execution_count": 11,
     "metadata": {},
     "output_type": "execute_result"
    }
   ],
   "source": [
    "list (range (2,15))"
   ]
  },
  {
   "cell_type": "code",
   "execution_count": 12,
   "id": "0a6bb51c",
   "metadata": {},
   "outputs": [
    {
     "data": {
      "text/plain": [
       "array([ 2,  3,  4,  5,  6,  7,  8,  9, 10, 11, 12, 13, 14])"
      ]
     },
     "execution_count": 12,
     "metadata": {},
     "output_type": "execute_result"
    }
   ],
   "source": [
    "np.arange(2,15)"
   ]
  },
  {
   "cell_type": "code",
   "execution_count": 13,
   "id": "4ed01411",
   "metadata": {},
   "outputs": [
    {
     "data": {
      "text/plain": [
       "array([ 2,  4,  6,  8, 10, 12, 14])"
      ]
     },
     "execution_count": 13,
     "metadata": {},
     "output_type": "execute_result"
    }
   ],
   "source": [
    "np.arange(2,15,2)"
   ]
  },
  {
   "cell_type": "code",
   "execution_count": 14,
   "id": "eb65099b",
   "metadata": {},
   "outputs": [
    {
     "data": {
      "text/plain": [
       "array([0., 0., 0.])"
      ]
     },
     "execution_count": 14,
     "metadata": {},
     "output_type": "execute_result"
    }
   ],
   "source": [
    "np.zeros (3)"
   ]
  },
  {
   "cell_type": "code",
   "execution_count": 15,
   "id": "752c9e04",
   "metadata": {},
   "outputs": [
    {
     "data": {
      "text/plain": [
       "array([[0., 0., 0., 0.],\n",
       "       [0., 0., 0., 0.],\n",
       "       [0., 0., 0., 0.]])"
      ]
     },
     "execution_count": 15,
     "metadata": {},
     "output_type": "execute_result"
    }
   ],
   "source": [
    "np.zeros ((3,4))"
   ]
  },
  {
   "cell_type": "code",
   "execution_count": 16,
   "id": "13104a55",
   "metadata": {},
   "outputs": [
    {
     "data": {
      "text/plain": [
       "array([1., 1., 1.])"
      ]
     },
     "execution_count": 16,
     "metadata": {},
     "output_type": "execute_result"
    }
   ],
   "source": [
    "np.ones (3)"
   ]
  },
  {
   "cell_type": "code",
   "execution_count": 17,
   "id": "8655b4a4",
   "metadata": {},
   "outputs": [
    {
     "data": {
      "text/plain": [
       "array([[1., 1., 1., 1.],\n",
       "       [1., 1., 1., 1.],\n",
       "       [1., 1., 1., 1.],\n",
       "       [1., 1., 1., 1.],\n",
       "       [1., 1., 1., 1.]])"
      ]
     },
     "execution_count": 17,
     "metadata": {},
     "output_type": "execute_result"
    }
   ],
   "source": [
    "np.ones ((5,4))"
   ]
  },
  {
   "cell_type": "code",
   "execution_count": 18,
   "id": "0255aefb",
   "metadata": {},
   "outputs": [
    {
     "data": {
      "text/plain": [
       "array([[1., 0., 0.],\n",
       "       [0., 1., 0.],\n",
       "       [0., 0., 1.]])"
      ]
     },
     "execution_count": 18,
     "metadata": {},
     "output_type": "execute_result"
    }
   ],
   "source": [
    "np.eye (3)"
   ]
  },
  {
   "cell_type": "markdown",
   "id": "b7ce40cb",
   "metadata": {},
   "source": [
    "#### linspace"
   ]
  },
  {
   "cell_type": "code",
   "execution_count": 19,
   "id": "511b4463",
   "metadata": {},
   "outputs": [
    {
     "data": {
      "text/plain": [
       "array([2. , 2.6, 3.2, 3.8, 4.4, 5. ])"
      ]
     },
     "execution_count": 19,
     "metadata": {},
     "output_type": "execute_result"
    }
   ],
   "source": [
    "np.linspace (2,5,6)"
   ]
  },
  {
   "cell_type": "code",
   "execution_count": 20,
   "id": "71778929",
   "metadata": {},
   "outputs": [
    {
     "data": {
      "text/plain": [
       "array([ 2.        ,  2.26530612,  2.53061224,  2.79591837,  3.06122449,\n",
       "        3.32653061,  3.59183673,  3.85714286,  4.12244898,  4.3877551 ,\n",
       "        4.65306122,  4.91836735,  5.18367347,  5.44897959,  5.71428571,\n",
       "        5.97959184,  6.24489796,  6.51020408,  6.7755102 ,  7.04081633,\n",
       "        7.30612245,  7.57142857,  7.83673469,  8.10204082,  8.36734694,\n",
       "        8.63265306,  8.89795918,  9.16326531,  9.42857143,  9.69387755,\n",
       "        9.95918367, 10.2244898 , 10.48979592, 10.75510204, 11.02040816,\n",
       "       11.28571429, 11.55102041, 11.81632653, 12.08163265, 12.34693878,\n",
       "       12.6122449 , 12.87755102, 13.14285714, 13.40816327, 13.67346939,\n",
       "       13.93877551, 14.20408163, 14.46938776, 14.73469388, 15.        ])"
      ]
     },
     "execution_count": 20,
     "metadata": {},
     "output_type": "execute_result"
    }
   ],
   "source": [
    "np.linspace (2,15,50)"
   ]
  },
  {
   "cell_type": "markdown",
   "id": "6dd0c5e1",
   "metadata": {},
   "source": [
    "#### Random"
   ]
  },
  {
   "cell_type": "code",
   "execution_count": 21,
   "id": "aa398f0c",
   "metadata": {},
   "outputs": [
    {
     "data": {
      "text/plain": [
       "array([0.02369962, 0.18174535])"
      ]
     },
     "execution_count": 21,
     "metadata": {},
     "output_type": "execute_result"
    }
   ],
   "source": [
    "np.random.rand (2)"
   ]
  },
  {
   "cell_type": "code",
   "execution_count": 22,
   "id": "848fdd2d",
   "metadata": {},
   "outputs": [
    {
     "data": {
      "text/plain": [
       "array([0.36234766, 0.72847644, 0.42158821, 0.1069082 , 0.74175446,\n",
       "       0.89596845, 0.15086584, 0.47413794])"
      ]
     },
     "execution_count": 22,
     "metadata": {},
     "output_type": "execute_result"
    }
   ],
   "source": [
    "np.random.rand (8)"
   ]
  },
  {
   "cell_type": "code",
   "execution_count": 23,
   "id": "849884dc",
   "metadata": {},
   "outputs": [
    {
     "data": {
      "text/plain": [
       "array([[0.7893764 , 0.99251269],\n",
       "       [0.63369227, 0.61979119],\n",
       "       [0.06643637, 0.01097316],\n",
       "       [0.31169802, 0.30224791],\n",
       "       [0.03047478, 0.16256901],\n",
       "       [0.41122862, 0.42313448],\n",
       "       [0.54556309, 0.26426474],\n",
       "       [0.59670392, 0.65952459]])"
      ]
     },
     "execution_count": 23,
     "metadata": {},
     "output_type": "execute_result"
    }
   ],
   "source": [
    "np.random.rand (8,2)"
   ]
  },
  {
   "cell_type": "code",
   "execution_count": 24,
   "id": "1c0c8c29",
   "metadata": {},
   "outputs": [
    {
     "data": {
      "text/plain": [
       "array([ 0.98975551, -0.37577513])"
      ]
     },
     "execution_count": 24,
     "metadata": {},
     "output_type": "execute_result"
    }
   ],
   "source": [
    "# randn\n",
    "np.random.randn (2)"
   ]
  },
  {
   "cell_type": "code",
   "execution_count": 25,
   "id": "8bee6b50",
   "metadata": {},
   "outputs": [
    {
     "data": {
      "text/plain": [
       "array([[-1.89516035,  0.27248975,  0.8959415 ,  0.80840361],\n",
       "       [-0.04700459,  1.11624018, -1.56592972,  1.28119193]])"
      ]
     },
     "execution_count": 25,
     "metadata": {},
     "output_type": "execute_result"
    }
   ],
   "source": [
    "np.random.randn (2,4)"
   ]
  },
  {
   "cell_type": "code",
   "execution_count": 26,
   "id": "7069e240",
   "metadata": {},
   "outputs": [
    {
     "data": {
      "text/plain": [
       "67"
      ]
     },
     "execution_count": 26,
     "metadata": {},
     "output_type": "execute_result"
    }
   ],
   "source": [
    "# randint\n",
    "np.random.randint (1,100)"
   ]
  },
  {
   "cell_type": "code",
   "execution_count": 27,
   "id": "77651d75",
   "metadata": {},
   "outputs": [
    {
     "data": {
      "text/plain": [
       "array([53, 35, 57, 60, 33, 87, 83, 27, 14, 31])"
      ]
     },
     "execution_count": 27,
     "metadata": {},
     "output_type": "execute_result"
    }
   ],
   "source": [
    "np.random.randint (1,100,10)"
   ]
  },
  {
   "cell_type": "code",
   "execution_count": 28,
   "id": "a696ed9a",
   "metadata": {},
   "outputs": [
    {
     "name": "stdout",
     "output_type": "stream",
     "text": [
      "[71 92  8 38 57 51 66 13 72 20]\n",
      "[32 75 56 84 60 92 74 97 50 54]\n"
     ]
    }
   ],
   "source": [
    "np.random.seed (40)\n",
    "print  (np.random.randint (1,100,10))\n",
    "print  (np.random.randint (1,100,10))"
   ]
  },
  {
   "cell_type": "markdown",
   "id": "200e73de",
   "metadata": {},
   "source": [
    "### Array Attributes and Methods"
   ]
  },
  {
   "cell_type": "code",
   "execution_count": 29,
   "id": "f915f5e8",
   "metadata": {},
   "outputs": [
    {
     "data": {
      "text/plain": [
       "array([ 0,  1,  2,  3,  4,  5,  6,  7,  8,  9, 10, 11, 12, 13, 14, 15])"
      ]
     },
     "execution_count": 29,
     "metadata": {},
     "output_type": "execute_result"
    }
   ],
   "source": [
    "arr1 = np.arange (16)\n",
    "arr1"
   ]
  },
  {
   "cell_type": "code",
   "execution_count": 30,
   "id": "48543c1c",
   "metadata": {},
   "outputs": [
    {
     "data": {
      "text/plain": [
       "array([[ 0,  1,  2,  3],\n",
       "       [ 4,  5,  6,  7],\n",
       "       [ 8,  9, 10, 11],\n",
       "       [12, 13, 14, 15]])"
      ]
     },
     "execution_count": 30,
     "metadata": {},
     "output_type": "execute_result"
    }
   ],
   "source": [
    "arr1.reshape (4,4)"
   ]
  },
  {
   "cell_type": "code",
   "execution_count": 31,
   "id": "137455e4",
   "metadata": {},
   "outputs": [
    {
     "data": {
      "text/plain": [
       "array([[ 0,  1,  2,  3,  4,  5,  6,  7],\n",
       "       [ 8,  9, 10, 11, 12, 13, 14, 15]])"
      ]
     },
     "execution_count": 31,
     "metadata": {},
     "output_type": "execute_result"
    }
   ],
   "source": [
    "arr1.reshape (2,8)"
   ]
  },
  {
   "cell_type": "code",
   "execution_count": 32,
   "id": "75832b45",
   "metadata": {},
   "outputs": [],
   "source": [
    "# arr1.reshape (2,9) => Error "
   ]
  },
  {
   "cell_type": "code",
   "execution_count": 33,
   "id": "7e897480",
   "metadata": {},
   "outputs": [],
   "source": [
    "# arr1.reshape (2,7) Error also"
   ]
  },
  {
   "cell_type": "code",
   "execution_count": 34,
   "id": "3e1897fd",
   "metadata": {},
   "outputs": [
    {
     "data": {
      "text/plain": [
       "0"
      ]
     },
     "execution_count": 34,
     "metadata": {},
     "output_type": "execute_result"
    }
   ],
   "source": [
    "# min ()\n",
    "arr1.min ()"
   ]
  },
  {
   "cell_type": "code",
   "execution_count": 35,
   "id": "8aa636c6",
   "metadata": {},
   "outputs": [],
   "source": [
    "arr2 = np.random.randn (2,5)"
   ]
  },
  {
   "cell_type": "code",
   "execution_count": 36,
   "id": "7a268cc2",
   "metadata": {},
   "outputs": [
    {
     "data": {
      "text/plain": [
       "array([[ 1.22856564,  0.39449556, -0.11133525,  0.89847403, -0.52142561],\n",
       "       [-0.47653982,  1.95110373, -0.58434848,  2.31463471,  0.14793115]])"
      ]
     },
     "execution_count": 36,
     "metadata": {},
     "output_type": "execute_result"
    }
   ],
   "source": [
    "arr2"
   ]
  },
  {
   "cell_type": "code",
   "execution_count": 37,
   "id": "11a0b009",
   "metadata": {},
   "outputs": [
    {
     "data": {
      "text/plain": [
       "-0.5843484841169373"
      ]
     },
     "execution_count": 37,
     "metadata": {},
     "output_type": "execute_result"
    }
   ],
   "source": [
    "arr2.min ()"
   ]
  },
  {
   "cell_type": "code",
   "execution_count": 38,
   "id": "9f412ada",
   "metadata": {},
   "outputs": [
    {
     "data": {
      "text/plain": [
       "2.314634708294494"
      ]
     },
     "execution_count": 38,
     "metadata": {},
     "output_type": "execute_result"
    }
   ],
   "source": [
    "arr2.max ()"
   ]
  },
  {
   "cell_type": "code",
   "execution_count": 39,
   "id": "1e2bf79e",
   "metadata": {},
   "outputs": [],
   "source": [
    "# argmin argmax"
   ]
  },
  {
   "cell_type": "code",
   "execution_count": 40,
   "id": "a2643b67",
   "metadata": {},
   "outputs": [
    {
     "data": {
      "text/plain": [
       "7"
      ]
     },
     "execution_count": 40,
     "metadata": {},
     "output_type": "execute_result"
    }
   ],
   "source": [
    "arr2.argmin ()"
   ]
  },
  {
   "cell_type": "code",
   "execution_count": 41,
   "id": "60778fe9",
   "metadata": {},
   "outputs": [
    {
     "data": {
      "text/plain": [
       "8"
      ]
     },
     "execution_count": 41,
     "metadata": {},
     "output_type": "execute_result"
    }
   ],
   "source": [
    "arr2.argmax ()"
   ]
  },
  {
   "cell_type": "code",
   "execution_count": 42,
   "id": "143d2747",
   "metadata": {},
   "outputs": [
    {
     "data": {
      "text/plain": [
       "(2, 5)"
      ]
     },
     "execution_count": 42,
     "metadata": {},
     "output_type": "execute_result"
    }
   ],
   "source": [
    "arr2.shape"
   ]
  },
  {
   "cell_type": "code",
   "execution_count": 43,
   "id": "36bc7016",
   "metadata": {},
   "outputs": [
    {
     "data": {
      "text/plain": [
       "dtype('float64')"
      ]
     },
     "execution_count": 43,
     "metadata": {},
     "output_type": "execute_result"
    }
   ],
   "source": [
    "arr2.dtype"
   ]
  },
  {
   "cell_type": "code",
   "execution_count": 44,
   "id": "ec2b10c4",
   "metadata": {},
   "outputs": [
    {
     "data": {
      "text/plain": [
       "dtype('int32')"
      ]
     },
     "execution_count": 44,
     "metadata": {},
     "output_type": "execute_result"
    }
   ],
   "source": [
    "arr1.dtype"
   ]
  },
  {
   "cell_type": "markdown",
   "id": "44028823",
   "metadata": {},
   "source": [
    "### NumPy.sum ()"
   ]
  },
  {
   "cell_type": "code",
   "execution_count": 45,
   "id": "a7729817",
   "metadata": {},
   "outputs": [
    {
     "data": {
      "text/plain": [
       "120"
      ]
     },
     "execution_count": 45,
     "metadata": {},
     "output_type": "execute_result"
    }
   ],
   "source": [
    "np.sum(arr1)"
   ]
  },
  {
   "cell_type": "code",
   "execution_count": 46,
   "id": "4c30ebac",
   "metadata": {},
   "outputs": [
    {
     "data": {
      "text/plain": [
       "5.2415556687144464"
      ]
     },
     "execution_count": 46,
     "metadata": {},
     "output_type": "execute_result"
    }
   ],
   "source": [
    "np.sum(arr2)"
   ]
  },
  {
   "cell_type": "code",
   "execution_count": 47,
   "id": "42fb61e8",
   "metadata": {},
   "outputs": [
    {
     "data": {
      "text/plain": [
       "120"
      ]
     },
     "execution_count": 47,
     "metadata": {},
     "output_type": "execute_result"
    }
   ],
   "source": [
    "sum (arr1)"
   ]
  },
  {
   "cell_type": "code",
   "execution_count": 48,
   "id": "207fc66f",
   "metadata": {},
   "outputs": [
    {
     "data": {
      "text/plain": [
       "array([ 0.75202582,  2.34559929, -0.69568373,  3.21310874, -0.37349446])"
      ]
     },
     "execution_count": 48,
     "metadata": {},
     "output_type": "execute_result"
    }
   ],
   "source": [
    "sum(arr2)"
   ]
  },
  {
   "cell_type": "code",
   "execution_count": 49,
   "id": "4f930049",
   "metadata": {},
   "outputs": [
    {
     "name": "stderr",
     "output_type": "stream",
     "text": [
      "<magic-timeit>:1: RuntimeWarning: overflow encountered in long_scalars\n"
     ]
    },
    {
     "name": "stdout",
     "output_type": "stream",
     "text": [
      "21 ms ± 4.39 ms per loop (mean ± std. dev. of 7 runs, 100 loops each)\n",
      "275 µs ± 35.8 µs per loop (mean ± std. dev. of 7 runs, 1000 loops each)\n"
     ]
    }
   ],
   "source": [
    "## difference between sum and np.sum\n",
    "%timeit sum (np.arange (200000))\n",
    "%timeit np.sum (np.arange (200000))"
   ]
  },
  {
   "cell_type": "code",
   "execution_count": 50,
   "id": "e2cc593a",
   "metadata": {},
   "outputs": [
    {
     "data": {
      "text/plain": [
       "1"
      ]
     },
     "execution_count": 50,
     "metadata": {},
     "output_type": "execute_result"
    }
   ],
   "source": [
    "np.random.randint(5)"
   ]
  },
  {
   "cell_type": "code",
   "execution_count": 51,
   "id": "3af6dbe6",
   "metadata": {},
   "outputs": [],
   "source": [
    "from numpy.random import randint"
   ]
  },
  {
   "cell_type": "code",
   "execution_count": 52,
   "id": "5c33da71",
   "metadata": {},
   "outputs": [
    {
     "data": {
      "text/plain": [
       "43"
      ]
     },
     "execution_count": 52,
     "metadata": {},
     "output_type": "execute_result"
    }
   ],
   "source": [
    "randint (100)"
   ]
  },
  {
   "cell_type": "code",
   "execution_count": 53,
   "id": "2706b752",
   "metadata": {},
   "outputs": [],
   "source": [
    "from numpy import random "
   ]
  },
  {
   "cell_type": "code",
   "execution_count": 54,
   "id": "6bc732a4",
   "metadata": {},
   "outputs": [
    {
     "data": {
      "text/plain": [
       "array([ 0.0753364 , -0.90983402,  0.96035719, -0.79586382])"
      ]
     },
     "execution_count": 54,
     "metadata": {},
     "output_type": "execute_result"
    }
   ],
   "source": [
    "random.randn (4)"
   ]
  }
 ],
 "metadata": {
  "kernelspec": {
   "display_name": "Python 3 (ipykernel)",
   "language": "python",
   "name": "python3"
  },
  "language_info": {
   "codemirror_mode": {
    "name": "ipython",
    "version": 3
   },
   "file_extension": ".py",
   "mimetype": "text/x-python",
   "name": "python",
   "nbconvert_exporter": "python",
   "pygments_lexer": "ipython3",
   "version": "3.9.7"
  }
 },
 "nbformat": 4,
 "nbformat_minor": 5
}
