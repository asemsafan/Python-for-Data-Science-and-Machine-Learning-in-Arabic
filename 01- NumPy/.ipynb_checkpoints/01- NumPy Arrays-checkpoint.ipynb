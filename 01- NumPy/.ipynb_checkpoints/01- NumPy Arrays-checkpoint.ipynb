{
 "cells": [
  {
   "cell_type": "markdown",
   "id": "bbeff585",
   "metadata": {},
   "source": [
    "# 01- NumPy Arrays"
   ]
  },
  {
   "cell_type": "code",
   "execution_count": 1,
   "id": "5200ae06",
   "metadata": {},
   "outputs": [],
   "source": [
    "# pip install numpy\n",
    "import numpy as np"
   ]
  },
  {
   "cell_type": "code",
   "execution_count": 2,
   "id": "c48a1634",
   "metadata": {},
   "outputs": [],
   "source": [
    "list1 = [1,2,3,4,5,6]"
   ]
  },
  {
   "cell_type": "code",
   "execution_count": 3,
   "id": "81c2da58",
   "metadata": {},
   "outputs": [],
   "source": [
    "arr1 = np.array(list1)"
   ]
  },
  {
   "cell_type": "code",
   "execution_count": 4,
   "id": "f9686499",
   "metadata": {},
   "outputs": [
    {
     "data": {
      "text/plain": [
       "[1, 2, 3, 4, 5, 6]"
      ]
     },
     "execution_count": 4,
     "metadata": {},
     "output_type": "execute_result"
    }
   ],
   "source": [
    "list1"
   ]
  },
  {
   "cell_type": "code",
   "execution_count": 5,
   "id": "38e22471",
   "metadata": {},
   "outputs": [
    {
     "data": {
      "text/plain": [
       "array([1, 2, 3, 4, 5, 6])"
      ]
     },
     "execution_count": 5,
     "metadata": {},
     "output_type": "execute_result"
    }
   ],
   "source": [
    "arr1"
   ]
  },
  {
   "cell_type": "code",
   "execution_count": 6,
   "id": "64855319",
   "metadata": {},
   "outputs": [
    {
     "data": {
      "text/plain": [
       "numpy.ndarray"
      ]
     },
     "execution_count": 6,
     "metadata": {},
     "output_type": "execute_result"
    }
   ],
   "source": [
    "type (arr1)"
   ]
  },
  {
   "cell_type": "code",
   "execution_count": 7,
   "id": "8e71da52",
   "metadata": {},
   "outputs": [],
   "source": [
    "matrix1 = [[1,2,3],[4,5,6],[7,8,9]]"
   ]
  },
  {
   "cell_type": "code",
   "execution_count": 8,
   "id": "57af899a",
   "metadata": {},
   "outputs": [],
   "source": [
    "arr2 = np.array(matrix1)"
   ]
  },
  {
   "cell_type": "code",
   "execution_count": 9,
   "id": "affe8c58",
   "metadata": {},
   "outputs": [
    {
     "data": {
      "text/plain": [
       "array([[1, 2, 3],\n",
       "       [4, 5, 6],\n",
       "       [7, 8, 9]])"
      ]
     },
     "execution_count": 9,
     "metadata": {},
     "output_type": "execute_result"
    }
   ],
   "source": [
    "arr2"
   ]
  },
  {
   "cell_type": "markdown",
   "id": "95d27691",
   "metadata": {},
   "source": [
    "### Built in methods"
   ]
  },
  {
   "cell_type": "code",
   "execution_count": 10,
   "id": "9d67fc18",
   "metadata": {},
   "outputs": [
    {
     "data": {
      "text/plain": [
       "range(2, 15)"
      ]
     },
     "execution_count": 10,
     "metadata": {},
     "output_type": "execute_result"
    }
   ],
   "source": [
    "range (2,15)"
   ]
  },
  {
   "cell_type": "code",
   "execution_count": 11,
   "id": "17ab91d5",
   "metadata": {},
   "outputs": [
    {
     "data": {
      "text/plain": [
       "[2, 3, 4, 5, 6, 7, 8, 9, 10, 11, 12, 13, 14]"
      ]
     },
     "execution_count": 11,
     "metadata": {},
     "output_type": "execute_result"
    }
   ],
   "source": [
    "list (range (2,15))"
   ]
  },
  {
   "cell_type": "code",
   "execution_count": 12,
   "id": "14fe4fdf",
   "metadata": {},
   "outputs": [
    {
     "data": {
      "text/plain": [
       "array([ 2,  3,  4,  5,  6,  7,  8,  9, 10, 11, 12, 13, 14])"
      ]
     },
     "execution_count": 12,
     "metadata": {},
     "output_type": "execute_result"
    }
   ],
   "source": [
    "np.arange(2,15)"
   ]
  },
  {
   "cell_type": "code",
   "execution_count": 13,
   "id": "61a856af",
   "metadata": {},
   "outputs": [
    {
     "data": {
      "text/plain": [
       "array([ 2,  4,  6,  8, 10, 12, 14])"
      ]
     },
     "execution_count": 13,
     "metadata": {},
     "output_type": "execute_result"
    }
   ],
   "source": [
    "np.arange(2,15,2)"
   ]
  },
  {
   "cell_type": "code",
   "execution_count": 14,
   "id": "fa3b316b",
   "metadata": {},
   "outputs": [
    {
     "data": {
      "text/plain": [
       "array([0., 0., 0.])"
      ]
     },
     "execution_count": 14,
     "metadata": {},
     "output_type": "execute_result"
    }
   ],
   "source": [
    "np.zeros (3)"
   ]
  },
  {
   "cell_type": "code",
   "execution_count": 15,
   "id": "42cd8a55",
   "metadata": {},
   "outputs": [
    {
     "data": {
      "text/plain": [
       "array([[0., 0., 0., 0.],\n",
       "       [0., 0., 0., 0.],\n",
       "       [0., 0., 0., 0.]])"
      ]
     },
     "execution_count": 15,
     "metadata": {},
     "output_type": "execute_result"
    }
   ],
   "source": [
    "np.zeros ((3,4))"
   ]
  },
  {
   "cell_type": "code",
   "execution_count": 16,
   "id": "e177a8d2",
   "metadata": {},
   "outputs": [
    {
     "data": {
      "text/plain": [
       "array([1., 1., 1.])"
      ]
     },
     "execution_count": 16,
     "metadata": {},
     "output_type": "execute_result"
    }
   ],
   "source": [
    "np.ones (3)"
   ]
  },
  {
   "cell_type": "code",
   "execution_count": 17,
   "id": "f209850d",
   "metadata": {},
   "outputs": [
    {
     "data": {
      "text/plain": [
       "array([[1., 1., 1., 1.],\n",
       "       [1., 1., 1., 1.],\n",
       "       [1., 1., 1., 1.],\n",
       "       [1., 1., 1., 1.],\n",
       "       [1., 1., 1., 1.]])"
      ]
     },
     "execution_count": 17,
     "metadata": {},
     "output_type": "execute_result"
    }
   ],
   "source": [
    "np.ones ((5,4))"
   ]
  },
  {
   "cell_type": "code",
   "execution_count": 18,
   "id": "742406b4",
   "metadata": {},
   "outputs": [
    {
     "data": {
      "text/plain": [
       "array([[1., 0., 0.],\n",
       "       [0., 1., 0.],\n",
       "       [0., 0., 1.]])"
      ]
     },
     "execution_count": 18,
     "metadata": {},
     "output_type": "execute_result"
    }
   ],
   "source": [
    "np.eye (3)"
   ]
  },
  {
   "cell_type": "markdown",
   "id": "ae661d75",
   "metadata": {},
   "source": [
    "#### linspace"
   ]
  },
  {
   "cell_type": "code",
   "execution_count": 19,
   "id": "a4264a1d",
   "metadata": {},
   "outputs": [
    {
     "data": {
      "text/plain": [
       "array([2. , 2.6, 3.2, 3.8, 4.4, 5. ])"
      ]
     },
     "execution_count": 19,
     "metadata": {},
     "output_type": "execute_result"
    }
   ],
   "source": [
    "np.linspace (2,5,6)"
   ]
  },
  {
   "cell_type": "code",
   "execution_count": 20,
   "id": "1f0ea0bd",
   "metadata": {},
   "outputs": [
    {
     "data": {
      "text/plain": [
       "array([ 2.        ,  2.26530612,  2.53061224,  2.79591837,  3.06122449,\n",
       "        3.32653061,  3.59183673,  3.85714286,  4.12244898,  4.3877551 ,\n",
       "        4.65306122,  4.91836735,  5.18367347,  5.44897959,  5.71428571,\n",
       "        5.97959184,  6.24489796,  6.51020408,  6.7755102 ,  7.04081633,\n",
       "        7.30612245,  7.57142857,  7.83673469,  8.10204082,  8.36734694,\n",
       "        8.63265306,  8.89795918,  9.16326531,  9.42857143,  9.69387755,\n",
       "        9.95918367, 10.2244898 , 10.48979592, 10.75510204, 11.02040816,\n",
       "       11.28571429, 11.55102041, 11.81632653, 12.08163265, 12.34693878,\n",
       "       12.6122449 , 12.87755102, 13.14285714, 13.40816327, 13.67346939,\n",
       "       13.93877551, 14.20408163, 14.46938776, 14.73469388, 15.        ])"
      ]
     },
     "execution_count": 20,
     "metadata": {},
     "output_type": "execute_result"
    }
   ],
   "source": [
    "np.linspace (2,15,50)"
   ]
  },
  {
   "cell_type": "markdown",
   "id": "dee93449",
   "metadata": {},
   "source": [
    "#### Random"
   ]
  },
  {
   "cell_type": "code",
   "execution_count": 21,
   "id": "7bd19626",
   "metadata": {},
   "outputs": [
    {
     "data": {
      "text/plain": [
       "array([0.29477314, 0.93847409])"
      ]
     },
     "execution_count": 21,
     "metadata": {},
     "output_type": "execute_result"
    }
   ],
   "source": [
    "np.random.rand (2)"
   ]
  },
  {
   "cell_type": "code",
   "execution_count": 22,
   "id": "d333383e",
   "metadata": {},
   "outputs": [
    {
     "data": {
      "text/plain": [
       "array([0.84532951, 0.61162998, 0.74144723, 0.377464  , 0.11253606,\n",
       "       0.17131516, 0.14753046, 0.76809328])"
      ]
     },
     "execution_count": 22,
     "metadata": {},
     "output_type": "execute_result"
    }
   ],
   "source": [
    "np.random.rand (8)"
   ]
  },
  {
   "cell_type": "code",
   "execution_count": 23,
   "id": "484fbde1",
   "metadata": {},
   "outputs": [
    {
     "data": {
      "text/plain": [
       "array([[0.99776084, 0.52578759],\n",
       "       [0.70410252, 0.02549792],\n",
       "       [0.92158011, 0.36881061],\n",
       "       [0.1329312 , 0.35646355],\n",
       "       [0.14899911, 0.63411062],\n",
       "       [0.96073959, 0.24568236],\n",
       "       [0.16681861, 0.31877721],\n",
       "       [0.75481531, 0.88353993]])"
      ]
     },
     "execution_count": 23,
     "metadata": {},
     "output_type": "execute_result"
    }
   ],
   "source": [
    "np.random.rand (8,2)"
   ]
  },
  {
   "cell_type": "code",
   "execution_count": 24,
   "id": "e8e20081",
   "metadata": {},
   "outputs": [
    {
     "data": {
      "text/plain": [
       "array([ 2.19308824, -0.35202388])"
      ]
     },
     "execution_count": 24,
     "metadata": {},
     "output_type": "execute_result"
    }
   ],
   "source": [
    "# randn\n",
    "np.random.randn (2)"
   ]
  },
  {
   "cell_type": "code",
   "execution_count": 25,
   "id": "0ddb76ce",
   "metadata": {},
   "outputs": [
    {
     "data": {
      "text/plain": [
       "array([[-1.27748807,  0.05074519, -0.84924767, -1.199524  ],\n",
       "       [-1.01129585,  0.86880694, -0.52893618,  0.04086582]])"
      ]
     },
     "execution_count": 25,
     "metadata": {},
     "output_type": "execute_result"
    }
   ],
   "source": [
    "np.random.randn (2,4)"
   ]
  },
  {
   "cell_type": "code",
   "execution_count": 26,
   "id": "837e997a",
   "metadata": {},
   "outputs": [
    {
     "data": {
      "text/plain": [
       "17"
      ]
     },
     "execution_count": 26,
     "metadata": {},
     "output_type": "execute_result"
    }
   ],
   "source": [
    "# randint\n",
    "np.random.randint (1,100)"
   ]
  },
  {
   "cell_type": "code",
   "execution_count": 27,
   "id": "d93daaaf",
   "metadata": {},
   "outputs": [
    {
     "data": {
      "text/plain": [
       "array([73, 68, 36, 34, 52, 49, 11,  3, 14, 37])"
      ]
     },
     "execution_count": 27,
     "metadata": {},
     "output_type": "execute_result"
    }
   ],
   "source": [
    "np.random.randint (1,100,10)"
   ]
  },
  {
   "cell_type": "code",
   "execution_count": 28,
   "id": "7d477504",
   "metadata": {},
   "outputs": [
    {
     "name": "stdout",
     "output_type": "stream",
     "text": [
      "[71 92  8 38 57 51 66 13 72 20]\n",
      "[32 75 56 84 60 92 74 97 50 54]\n"
     ]
    }
   ],
   "source": [
    "np.random.seed (40)\n",
    "print  (np.random.randint (1,100,10))\n",
    "print  (np.random.randint (1,100,10))"
   ]
  },
  {
   "cell_type": "markdown",
   "id": "5c222d73",
   "metadata": {},
   "source": [
    "### Array Attributes and Methods"
   ]
  },
  {
   "cell_type": "code",
   "execution_count": 29,
   "id": "e8f0500b",
   "metadata": {},
   "outputs": [
    {
     "data": {
      "text/plain": [
       "array([ 0,  1,  2,  3,  4,  5,  6,  7,  8,  9, 10, 11, 12, 13, 14, 15])"
      ]
     },
     "execution_count": 29,
     "metadata": {},
     "output_type": "execute_result"
    }
   ],
   "source": [
    "arr1 = np.arange (16)\n",
    "arr1"
   ]
  },
  {
   "cell_type": "code",
   "execution_count": 30,
   "id": "d9d03a34",
   "metadata": {},
   "outputs": [
    {
     "data": {
      "text/plain": [
       "array([[ 0,  1,  2,  3],\n",
       "       [ 4,  5,  6,  7],\n",
       "       [ 8,  9, 10, 11],\n",
       "       [12, 13, 14, 15]])"
      ]
     },
     "execution_count": 30,
     "metadata": {},
     "output_type": "execute_result"
    }
   ],
   "source": [
    "arr1.reshape (4,4)"
   ]
  },
  {
   "cell_type": "code",
   "execution_count": 31,
   "id": "85bd7691",
   "metadata": {},
   "outputs": [
    {
     "data": {
      "text/plain": [
       "array([[ 0,  1,  2,  3,  4,  5,  6,  7],\n",
       "       [ 8,  9, 10, 11, 12, 13, 14, 15]])"
      ]
     },
     "execution_count": 31,
     "metadata": {},
     "output_type": "execute_result"
    }
   ],
   "source": [
    "arr1.reshape (2,8)"
   ]
  },
  {
   "cell_type": "code",
   "execution_count": 33,
   "id": "cb635454",
   "metadata": {},
   "outputs": [],
   "source": [
    "# arr1.reshape (2,9) => Error "
   ]
  },
  {
   "cell_type": "code",
   "execution_count": 35,
   "id": "193646d4",
   "metadata": {},
   "outputs": [],
   "source": [
    "# arr1.reshape (2,7) Error also"
   ]
  },
  {
   "cell_type": "code",
   "execution_count": 36,
   "id": "2bd9ecba",
   "metadata": {},
   "outputs": [
    {
     "data": {
      "text/plain": [
       "0"
      ]
     },
     "execution_count": 36,
     "metadata": {},
     "output_type": "execute_result"
    }
   ],
   "source": [
    "# min ()\n",
    "arr1.min ()"
   ]
  },
  {
   "cell_type": "code",
   "execution_count": 37,
   "id": "3a99c8b5",
   "metadata": {},
   "outputs": [],
   "source": [
    "arr2 = np.random.randn (2,5)"
   ]
  },
  {
   "cell_type": "code",
   "execution_count": 38,
   "id": "5d4ef546",
   "metadata": {},
   "outputs": [
    {
     "data": {
      "text/plain": [
       "array([[ 1.22856564,  0.39449556, -0.11133525,  0.89847403, -0.52142561],\n",
       "       [-0.47653982,  1.95110373, -0.58434848,  2.31463471,  0.14793115]])"
      ]
     },
     "execution_count": 38,
     "metadata": {},
     "output_type": "execute_result"
    }
   ],
   "source": [
    "arr2"
   ]
  },
  {
   "cell_type": "code",
   "execution_count": 39,
   "id": "b3a1fc13",
   "metadata": {},
   "outputs": [
    {
     "data": {
      "text/plain": [
       "-0.5843484841169373"
      ]
     },
     "execution_count": 39,
     "metadata": {},
     "output_type": "execute_result"
    }
   ],
   "source": [
    "arr2.min ()"
   ]
  },
  {
   "cell_type": "code",
   "execution_count": 40,
   "id": "88fef386",
   "metadata": {},
   "outputs": [
    {
     "data": {
      "text/plain": [
       "2.314634708294494"
      ]
     },
     "execution_count": 40,
     "metadata": {},
     "output_type": "execute_result"
    }
   ],
   "source": [
    "arr2.max ()"
   ]
  },
  {
   "cell_type": "code",
   "execution_count": 41,
   "id": "d3202366",
   "metadata": {},
   "outputs": [],
   "source": [
    "# argmin argmax"
   ]
  },
  {
   "cell_type": "code",
   "execution_count": 42,
   "id": "8bbc257a",
   "metadata": {},
   "outputs": [
    {
     "data": {
      "text/plain": [
       "7"
      ]
     },
     "execution_count": 42,
     "metadata": {},
     "output_type": "execute_result"
    }
   ],
   "source": [
    "arr2.argmin ()"
   ]
  },
  {
   "cell_type": "code",
   "execution_count": 43,
   "id": "062949cf",
   "metadata": {},
   "outputs": [
    {
     "data": {
      "text/plain": [
       "8"
      ]
     },
     "execution_count": 43,
     "metadata": {},
     "output_type": "execute_result"
    }
   ],
   "source": [
    "arr2.argmax ()"
   ]
  },
  {
   "cell_type": "code",
   "execution_count": 44,
   "id": "2b59dd31",
   "metadata": {},
   "outputs": [
    {
     "data": {
      "text/plain": [
       "(2, 5)"
      ]
     },
     "execution_count": 44,
     "metadata": {},
     "output_type": "execute_result"
    }
   ],
   "source": [
    "arr2.shape"
   ]
  },
  {
   "cell_type": "code",
   "execution_count": 45,
   "id": "dc18e515",
   "metadata": {},
   "outputs": [
    {
     "data": {
      "text/plain": [
       "dtype('float64')"
      ]
     },
     "execution_count": 45,
     "metadata": {},
     "output_type": "execute_result"
    }
   ],
   "source": [
    "arr2.dtype"
   ]
  },
  {
   "cell_type": "code",
   "execution_count": 46,
   "id": "ca49feb1",
   "metadata": {},
   "outputs": [
    {
     "data": {
      "text/plain": [
       "dtype('int32')"
      ]
     },
     "execution_count": 46,
     "metadata": {},
     "output_type": "execute_result"
    }
   ],
   "source": [
    "arr1.dtype"
   ]
  },
  {
   "cell_type": "markdown",
   "id": "e4414a30",
   "metadata": {},
   "source": [
    "### NumPy.sum ()"
   ]
  },
  {
   "cell_type": "code",
   "execution_count": 47,
   "id": "1326f257",
   "metadata": {},
   "outputs": [
    {
     "data": {
      "text/plain": [
       "120"
      ]
     },
     "execution_count": 47,
     "metadata": {},
     "output_type": "execute_result"
    }
   ],
   "source": [
    "np.sum(arr1)"
   ]
  },
  {
   "cell_type": "code",
   "execution_count": 48,
   "id": "9a0bb4c6",
   "metadata": {},
   "outputs": [
    {
     "data": {
      "text/plain": [
       "5.2415556687144464"
      ]
     },
     "execution_count": 48,
     "metadata": {},
     "output_type": "execute_result"
    }
   ],
   "source": [
    "np.sum(arr2)"
   ]
  },
  {
   "cell_type": "code",
   "execution_count": 49,
   "id": "2229ba4d",
   "metadata": {},
   "outputs": [
    {
     "data": {
      "text/plain": [
       "120"
      ]
     },
     "execution_count": 49,
     "metadata": {},
     "output_type": "execute_result"
    }
   ],
   "source": [
    "sum (arr1)"
   ]
  },
  {
   "cell_type": "code",
   "execution_count": 50,
   "id": "c5bf0f6d",
   "metadata": {},
   "outputs": [
    {
     "data": {
      "text/plain": [
       "array([ 0.75202582,  2.34559929, -0.69568373,  3.21310874, -0.37349446])"
      ]
     },
     "execution_count": 50,
     "metadata": {},
     "output_type": "execute_result"
    }
   ],
   "source": [
    "sum(arr2)"
   ]
  },
  {
   "cell_type": "code",
   "execution_count": 51,
   "id": "623191a3",
   "metadata": {},
   "outputs": [
    {
     "name": "stderr",
     "output_type": "stream",
     "text": [
      "<magic-timeit>:1: RuntimeWarning: overflow encountered in long_scalars\n"
     ]
    },
    {
     "name": "stdout",
     "output_type": "stream",
     "text": [
      "14 ms ± 125 µs per loop (mean ± std. dev. of 7 runs, 100 loops each)\n",
      "189 µs ± 677 ns per loop (mean ± std. dev. of 7 runs, 10000 loops each)\n"
     ]
    }
   ],
   "source": [
    "## difference between sum and np.sum\n",
    "%timeit sum (np.arange (200000))\n",
    "%timeit np.sum (np.arange (200000))"
   ]
  },
  {
   "cell_type": "code",
   "execution_count": 53,
   "id": "6a080c22",
   "metadata": {},
   "outputs": [
    {
     "data": {
      "text/plain": [
       "3"
      ]
     },
     "execution_count": 53,
     "metadata": {},
     "output_type": "execute_result"
    }
   ],
   "source": [
    "np.random.randint(5)"
   ]
  },
  {
   "cell_type": "code",
   "execution_count": 55,
   "id": "d935ced8",
   "metadata": {},
   "outputs": [],
   "source": [
    "from numpy.random import randint"
   ]
  },
  {
   "cell_type": "code",
   "execution_count": 60,
   "id": "265fc1e7",
   "metadata": {},
   "outputs": [
    {
     "data": {
      "text/plain": [
       "82"
      ]
     },
     "execution_count": 60,
     "metadata": {},
     "output_type": "execute_result"
    }
   ],
   "source": [
    "randint (100)"
   ]
  },
  {
   "cell_type": "code",
   "execution_count": 61,
   "id": "f3f3f45b",
   "metadata": {},
   "outputs": [],
   "source": [
    "from numpy import random "
   ]
  },
  {
   "cell_type": "code",
   "execution_count": 62,
   "id": "2b71b518",
   "metadata": {},
   "outputs": [
    {
     "data": {
      "text/plain": [
       "array([-1.93454253,  0.44665386,  0.15747584, -1.14344893])"
      ]
     },
     "execution_count": 62,
     "metadata": {},
     "output_type": "execute_result"
    }
   ],
   "source": [
    "random.randn (4)"
   ]
  }
 ],
 "metadata": {
  "kernelspec": {
   "display_name": "Python 3 (ipykernel)",
   "language": "python",
   "name": "python3"
  },
  "language_info": {
   "codemirror_mode": {
    "name": "ipython",
    "version": 3
   },
   "file_extension": ".py",
   "mimetype": "text/x-python",
   "name": "python",
   "nbconvert_exporter": "python",
   "pygments_lexer": "ipython3",
   "version": "3.9.7"
  }
 },
 "nbformat": 4,
 "nbformat_minor": 5
}
